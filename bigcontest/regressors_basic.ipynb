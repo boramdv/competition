{
 "cells": [
  {
   "cell_type": "code",
   "execution_count": 1,
   "id": "78e43cf4-c0f8-4598-adde-e5ee55c13b0c",
   "metadata": {},
   "outputs": [],
   "source": [
    "import pandas as pd\n",
    "import numpy as np\n",
    "\n",
    "import seaborn as sns\n",
    "import matplotlib.pyplot as plt\n",
    "%matplotlib inline\n",
    "\n",
    "import warnings\n",
    "warnings.filterwarnings('ignore')\n",
    "\n",
    "# 한글 폰트\n",
    "import matplotlib\n",
    "import matplotlib.font_manager as fm\n",
    "\n",
    "# 1.\n",
    "# font_path = \"C:/Windows/Fonts/NGULIM.TTF\"\n",
    "# font = fm.FontProperties(fname=font_path).get_name()\n",
    "# matplotlib.rc('font', family=font)\n",
    "\n",
    "# 2.\n",
    "matplotlib.rcParams['font.family'] = 'Malgun Gothic'\n",
    "matplotlib.rcParams['axes.unicode_minus'] = False"
   ]
  },
  {
   "cell_type": "code",
   "execution_count": 4,
   "id": "b1be60f9-fcbd-4ce7-bfff-54a1d7223e23",
   "metadata": {},
   "outputs": [],
   "source": [
    "# data load\n",
    "data = pd.read_csv('전체데이터통합.CSV', encoding='cp949')"
   ]
  },
  {
   "cell_type": "code",
   "execution_count": 4,
   "id": "021ac15b-9246-4913-b2ae-6a72abb68ca7",
   "metadata": {},
   "outputs": [
    {
     "data": {
      "text/html": [
       "<div>\n",
       "<style scoped>\n",
       "    .dataframe tbody tr th:only-of-type {\n",
       "        vertical-align: middle;\n",
       "    }\n",
       "\n",
       "    .dataframe tbody tr th {\n",
       "        vertical-align: top;\n",
       "    }\n",
       "\n",
       "    .dataframe thead th {\n",
       "        text-align: right;\n",
       "    }\n",
       "</style>\n",
       "<table border=\"1\" class=\"dataframe\">\n",
       "  <thead>\n",
       "    <tr style=\"text-align: right;\">\n",
       "      <th></th>\n",
       "      <th>base_date</th>\n",
       "      <th>city</th>\n",
       "      <th>emd_nm</th>\n",
       "      <th>0여성notvisit</th>\n",
       "      <th>0여성visit</th>\n",
       "      <th>0남성notvisit</th>\n",
       "      <th>0남성visit</th>\n",
       "      <th>10여성notvisit</th>\n",
       "      <th>10여성visit</th>\n",
       "      <th>10남성notvisit</th>\n",
       "      <th>...</th>\n",
       "      <th>use_amt농축수산물</th>\n",
       "      <th>use_amt마트/슈퍼마켓</th>\n",
       "      <th>평균기온(°C)</th>\n",
       "      <th>일강수량(mm)</th>\n",
       "      <th>평균 상대습도(%)</th>\n",
       "      <th>평균 현지기압(hPa)</th>\n",
       "      <th>합계 일사량(MJ/m2)</th>\n",
       "      <th>일 최심신적설(cm)</th>\n",
       "      <th>평균 전운량(1/10)</th>\n",
       "      <th>배출량</th>\n",
       "    </tr>\n",
       "  </thead>\n",
       "  <tbody>\n",
       "    <tr>\n",
       "      <th>0</th>\n",
       "      <td>2018-01-01</td>\n",
       "      <td>서귀포시</td>\n",
       "      <td>남원읍</td>\n",
       "      <td>11030.2331</td>\n",
       "      <td>9791.3235</td>\n",
       "      <td>11498.2617</td>\n",
       "      <td>10650.5811</td>\n",
       "      <td>13324.2924</td>\n",
       "      <td>10954.4914</td>\n",
       "      <td>15372.8110</td>\n",
       "      <td>...</td>\n",
       "      <td>2199680</td>\n",
       "      <td>24828201</td>\n",
       "      <td>6.1</td>\n",
       "      <td>0.0</td>\n",
       "      <td>58.9</td>\n",
       "      <td>1020.3</td>\n",
       "      <td>0.00</td>\n",
       "      <td>0.0</td>\n",
       "      <td>0.0</td>\n",
       "      <td>1239600</td>\n",
       "    </tr>\n",
       "    <tr>\n",
       "      <th>1</th>\n",
       "      <td>2018-01-01</td>\n",
       "      <td>서귀포시</td>\n",
       "      <td>대륜동</td>\n",
       "      <td>17647.5285</td>\n",
       "      <td>10160.5833</td>\n",
       "      <td>15216.9486</td>\n",
       "      <td>10298.1857</td>\n",
       "      <td>14152.0528</td>\n",
       "      <td>11361.8229</td>\n",
       "      <td>12541.6031</td>\n",
       "      <td>...</td>\n",
       "      <td>354993</td>\n",
       "      <td>37971731</td>\n",
       "      <td>6.1</td>\n",
       "      <td>0.0</td>\n",
       "      <td>58.9</td>\n",
       "      <td>1020.3</td>\n",
       "      <td>0.00</td>\n",
       "      <td>0.0</td>\n",
       "      <td>0.0</td>\n",
       "      <td>1717700</td>\n",
       "    </tr>\n",
       "    <tr>\n",
       "      <th>2</th>\n",
       "      <td>2018-01-01</td>\n",
       "      <td>서귀포시</td>\n",
       "      <td>대정읍</td>\n",
       "      <td>12538.2881</td>\n",
       "      <td>7792.5662</td>\n",
       "      <td>14360.4369</td>\n",
       "      <td>6043.2109</td>\n",
       "      <td>16053.7231</td>\n",
       "      <td>8710.5446</td>\n",
       "      <td>19530.3550</td>\n",
       "      <td>...</td>\n",
       "      <td>2730942</td>\n",
       "      <td>37142481</td>\n",
       "      <td>6.1</td>\n",
       "      <td>0.0</td>\n",
       "      <td>58.4</td>\n",
       "      <td>1018.5</td>\n",
       "      <td>7.72</td>\n",
       "      <td>0.0</td>\n",
       "      <td>0.0</td>\n",
       "      <td>1264950</td>\n",
       "    </tr>\n",
       "    <tr>\n",
       "      <th>3</th>\n",
       "      <td>2018-01-01</td>\n",
       "      <td>서귀포시</td>\n",
       "      <td>대천동</td>\n",
       "      <td>10539.1926</td>\n",
       "      <td>7307.2766</td>\n",
       "      <td>10214.4234</td>\n",
       "      <td>7677.3523</td>\n",
       "      <td>7645.1222</td>\n",
       "      <td>8157.7877</td>\n",
       "      <td>7511.4389</td>\n",
       "      <td>...</td>\n",
       "      <td>687498</td>\n",
       "      <td>39231391</td>\n",
       "      <td>6.1</td>\n",
       "      <td>0.0</td>\n",
       "      <td>58.9</td>\n",
       "      <td>1020.3</td>\n",
       "      <td>0.00</td>\n",
       "      <td>0.0</td>\n",
       "      <td>0.0</td>\n",
       "      <td>1765600</td>\n",
       "    </tr>\n",
       "    <tr>\n",
       "      <th>4</th>\n",
       "      <td>2018-01-01</td>\n",
       "      <td>서귀포시</td>\n",
       "      <td>동홍동</td>\n",
       "      <td>20141.3526</td>\n",
       "      <td>7741.1595</td>\n",
       "      <td>22060.7555</td>\n",
       "      <td>8331.2173</td>\n",
       "      <td>28043.7082</td>\n",
       "      <td>8607.6880</td>\n",
       "      <td>31639.5584</td>\n",
       "      <td>...</td>\n",
       "      <td>2572840</td>\n",
       "      <td>69274797</td>\n",
       "      <td>6.1</td>\n",
       "      <td>0.0</td>\n",
       "      <td>58.9</td>\n",
       "      <td>1020.3</td>\n",
       "      <td>0.00</td>\n",
       "      <td>0.0</td>\n",
       "      <td>0.0</td>\n",
       "      <td>4165050</td>\n",
       "    </tr>\n",
       "  </tbody>\n",
       "</table>\n",
       "<p>5 rows × 54 columns</p>\n",
       "</div>"
      ],
      "text/plain": [
       "    base_date  city emd_nm  0여성notvisit    0여성visit  0남성notvisit    0남성visit  \\\n",
       "0  2018-01-01  서귀포시    남원읍   11030.2331   9791.3235   11498.2617  10650.5811   \n",
       "1  2018-01-01  서귀포시    대륜동   17647.5285  10160.5833   15216.9486  10298.1857   \n",
       "2  2018-01-01  서귀포시    대정읍   12538.2881   7792.5662   14360.4369   6043.2109   \n",
       "3  2018-01-01  서귀포시    대천동   10539.1926   7307.2766   10214.4234   7677.3523   \n",
       "4  2018-01-01  서귀포시    동홍동   20141.3526   7741.1595   22060.7555   8331.2173   \n",
       "\n",
       "   10여성notvisit   10여성visit  10남성notvisit  ...  use_amt농축수산물  use_amt마트/슈퍼마켓  \\\n",
       "0    13324.2924  10954.4914    15372.8110  ...       2199680        24828201   \n",
       "1    14152.0528  11361.8229    12541.6031  ...        354993        37971731   \n",
       "2    16053.7231   8710.5446    19530.3550  ...       2730942        37142481   \n",
       "3     7645.1222   8157.7877     7511.4389  ...        687498        39231391   \n",
       "4    28043.7082   8607.6880    31639.5584  ...       2572840        69274797   \n",
       "\n",
       "   평균기온(°C)  일강수량(mm)  평균 상대습도(%)  평균 현지기압(hPa)  합계 일사량(MJ/m2)  일 최심신적설(cm)  \\\n",
       "0       6.1       0.0        58.9        1020.3           0.00          0.0   \n",
       "1       6.1       0.0        58.9        1020.3           0.00          0.0   \n",
       "2       6.1       0.0        58.4        1018.5           7.72          0.0   \n",
       "3       6.1       0.0        58.9        1020.3           0.00          0.0   \n",
       "4       6.1       0.0        58.9        1020.3           0.00          0.0   \n",
       "\n",
       "   평균 전운량(1/10)      배출량  \n",
       "0           0.0  1239600  \n",
       "1           0.0  1717700  \n",
       "2           0.0  1264950  \n",
       "3           0.0  1765600  \n",
       "4           0.0  4165050  \n",
       "\n",
       "[5 rows x 54 columns]"
      ]
     },
     "execution_count": 4,
     "metadata": {},
     "output_type": "execute_result"
    }
   ],
   "source": [
    "df = data.copy()\n",
    "df.head()"
   ]
  },
  {
   "cell_type": "code",
   "execution_count": 5,
   "id": "d4fc2670-02d7-4e88-87e4-b80ed3b8233c",
   "metadata": {},
   "outputs": [
    {
     "name": "stdout",
     "output_type": "stream",
     "text": [
      "<class 'pandas.core.frame.DataFrame'>\n",
      "RangeIndex: 48421 entries, 0 to 48420\n",
      "Data columns (total 54 columns):\n",
      " #   Column          Non-Null Count  Dtype  \n",
      "---  ------          --------------  -----  \n",
      " 0   base_date       48421 non-null  object \n",
      " 1   city            48421 non-null  object \n",
      " 2   emd_nm          48421 non-null  object \n",
      " 3   0여성notvisit     48421 non-null  float64\n",
      " 4   0여성visit        48421 non-null  float64\n",
      " 5   0남성notvisit     48421 non-null  float64\n",
      " 6   0남성visit        48421 non-null  float64\n",
      " 7   10여성notvisit    48421 non-null  float64\n",
      " 8   10여성visit       48421 non-null  float64\n",
      " 9   10남성notvisit    48421 non-null  float64\n",
      " 10  10남성visit       48421 non-null  float64\n",
      " 11  20여성notvisit    48421 non-null  float64\n",
      " 12  20여성visit       48421 non-null  float64\n",
      " 13  20남성notvisit    48421 non-null  float64\n",
      " 14  20남성visit       48421 non-null  float64\n",
      " 15  30여성notvisit    48421 non-null  float64\n",
      " 16  30여성visit       48421 non-null  float64\n",
      " 17  30남성notvisit    48421 non-null  float64\n",
      " 18  30남성visit       48421 non-null  float64\n",
      " 19  40여성notvisit    48421 non-null  float64\n",
      " 20  40여성visit       48421 non-null  float64\n",
      " 21  40남성notvisit    48421 non-null  float64\n",
      " 22  40남성visit       48421 non-null  float64\n",
      " 23  50여성notvisit    48421 non-null  float64\n",
      " 24  50여성visit       48421 non-null  float64\n",
      " 25  50남성notvisit    48421 non-null  float64\n",
      " 26  50남성visit       48421 non-null  float64\n",
      " 27  60여성notvisit    48421 non-null  float64\n",
      " 28  60여성visit       48421 non-null  float64\n",
      " 29  60남성notvisit    48421 non-null  float64\n",
      " 30  60남성visit       48421 non-null  float64\n",
      " 31  70여성notvisit    48421 non-null  float64\n",
      " 32  70여성visit       48421 non-null  float64\n",
      " 33  70남성notvisit    48421 non-null  float64\n",
      " 34  70남성visit       48421 non-null  float64\n",
      " 35  80여성notvisit    48421 non-null  float64\n",
      " 36  80여성visit       48421 non-null  float64\n",
      " 37  80남성notvisit    48421 non-null  float64\n",
      " 38  80남성visit       48421 non-null  float64\n",
      " 39  장기체류외국인         48421 non-null  float64\n",
      " 40  단기체류외국인         48421 non-null  float64\n",
      " 41  dayoff          48421 non-null  int64  \n",
      " 42  use_amt배달       48421 non-null  int64  \n",
      " 43  use_amt식품       48421 non-null  int64  \n",
      " 44  use_amt농축수산물    48421 non-null  int64  \n",
      " 45  use_amt마트/슈퍼마켓  48421 non-null  int64  \n",
      " 46  평균기온(°C)        48421 non-null  float64\n",
      " 47  일강수량(mm)        48421 non-null  float64\n",
      " 48  평균 상대습도(%)      48421 non-null  float64\n",
      " 49  평균 현지기압(hPa)    48421 non-null  float64\n",
      " 50  합계 일사량(MJ/m2)   48421 non-null  float64\n",
      " 51  일 최심신적설(cm)     48421 non-null  float64\n",
      " 52  평균 전운량(1/10)    48421 non-null  float64\n",
      " 53  배출량             48421 non-null  int64  \n",
      "dtypes: float64(45), int64(6), object(3)\n",
      "memory usage: 19.9+ MB\n"
     ]
    }
   ],
   "source": [
    "df.info()"
   ]
  },
  {
   "cell_type": "code",
   "execution_count": 6,
   "id": "b22f2a7a-073e-4e75-80ea-f0a4dad908a7",
   "metadata": {},
   "outputs": [
    {
     "data": {
      "text/plain": [
       "(48421, 54)"
      ]
     },
     "execution_count": 6,
     "metadata": {},
     "output_type": "execute_result"
    }
   ],
   "source": [
    "df.shape"
   ]
  },
  {
   "cell_type": "markdown",
   "id": "c8b66cf8-ca28-4b39-b6c9-f332b44c87a5",
   "metadata": {},
   "source": [
    "# 분석 변수 선택"
   ]
  },
  {
   "cell_type": "code",
   "execution_count": 12,
   "id": "64c5939e-1d7b-422f-bc25-ec1d52ce6ac2",
   "metadata": {},
   "outputs": [
    {
     "data": {
      "text/html": [
       "<div>\n",
       "<style scoped>\n",
       "    .dataframe tbody tr th:only-of-type {\n",
       "        vertical-align: middle;\n",
       "    }\n",
       "\n",
       "    .dataframe tbody tr th {\n",
       "        vertical-align: top;\n",
       "    }\n",
       "\n",
       "    .dataframe thead th {\n",
       "        text-align: right;\n",
       "    }\n",
       "</style>\n",
       "<table border=\"1\" class=\"dataframe\">\n",
       "  <thead>\n",
       "    <tr style=\"text-align: right;\">\n",
       "      <th></th>\n",
       "      <th>0여성notvisit</th>\n",
       "      <th>0여성visit</th>\n",
       "      <th>0남성notvisit</th>\n",
       "      <th>0남성visit</th>\n",
       "      <th>10여성notvisit</th>\n",
       "      <th>10여성visit</th>\n",
       "      <th>10남성notvisit</th>\n",
       "      <th>10남성visit</th>\n",
       "      <th>20여성notvisit</th>\n",
       "      <th>20여성visit</th>\n",
       "      <th>...</th>\n",
       "      <th>80여성notvisit</th>\n",
       "      <th>80여성visit</th>\n",
       "      <th>80남성notvisit</th>\n",
       "      <th>80남성visit</th>\n",
       "      <th>장기체류외국인</th>\n",
       "      <th>단기체류외국인</th>\n",
       "      <th>use_amt배달</th>\n",
       "      <th>use_amt식품</th>\n",
       "      <th>use_amt농축수산물</th>\n",
       "      <th>use_amt마트/슈퍼마켓</th>\n",
       "    </tr>\n",
       "  </thead>\n",
       "  <tbody>\n",
       "    <tr>\n",
       "      <th>0</th>\n",
       "      <td>11030.2331</td>\n",
       "      <td>9791.3235</td>\n",
       "      <td>11498.2617</td>\n",
       "      <td>10650.5811</td>\n",
       "      <td>13324.2924</td>\n",
       "      <td>10954.4914</td>\n",
       "      <td>15372.8110</td>\n",
       "      <td>12625.9706</td>\n",
       "      <td>8269.5504</td>\n",
       "      <td>15354.9535</td>\n",
       "      <td>...</td>\n",
       "      <td>9313.4883</td>\n",
       "      <td>3581.6028</td>\n",
       "      <td>5048.0583</td>\n",
       "      <td>1258.6118</td>\n",
       "      <td>3217.1185</td>\n",
       "      <td>3552.3268</td>\n",
       "      <td>644192</td>\n",
       "      <td>16392477</td>\n",
       "      <td>2199680</td>\n",
       "      <td>24828201</td>\n",
       "    </tr>\n",
       "    <tr>\n",
       "      <th>1</th>\n",
       "      <td>17647.5285</td>\n",
       "      <td>10160.5833</td>\n",
       "      <td>15216.9486</td>\n",
       "      <td>10298.1857</td>\n",
       "      <td>14152.0528</td>\n",
       "      <td>11361.8229</td>\n",
       "      <td>12541.6031</td>\n",
       "      <td>12196.2891</td>\n",
       "      <td>11551.7730</td>\n",
       "      <td>15218.0249</td>\n",
       "      <td>...</td>\n",
       "      <td>4756.9182</td>\n",
       "      <td>3304.4581</td>\n",
       "      <td>2626.1564</td>\n",
       "      <td>1394.6639</td>\n",
       "      <td>2926.3732</td>\n",
       "      <td>1347.0481</td>\n",
       "      <td>396728</td>\n",
       "      <td>3178292</td>\n",
       "      <td>354993</td>\n",
       "      <td>37971731</td>\n",
       "    </tr>\n",
       "    <tr>\n",
       "      <th>2</th>\n",
       "      <td>12538.2881</td>\n",
       "      <td>7792.5662</td>\n",
       "      <td>14360.4369</td>\n",
       "      <td>6043.2109</td>\n",
       "      <td>16053.7231</td>\n",
       "      <td>8710.5446</td>\n",
       "      <td>19530.3550</td>\n",
       "      <td>7145.9647</td>\n",
       "      <td>10281.0872</td>\n",
       "      <td>8805.2719</td>\n",
       "      <td>...</td>\n",
       "      <td>13545.1496</td>\n",
       "      <td>2777.5342</td>\n",
       "      <td>7111.8299</td>\n",
       "      <td>937.3813</td>\n",
       "      <td>5844.0823</td>\n",
       "      <td>1988.0280</td>\n",
       "      <td>512113</td>\n",
       "      <td>1413442</td>\n",
       "      <td>2730942</td>\n",
       "      <td>37142481</td>\n",
       "    </tr>\n",
       "    <tr>\n",
       "      <th>3</th>\n",
       "      <td>10539.1926</td>\n",
       "      <td>7307.2766</td>\n",
       "      <td>10214.4234</td>\n",
       "      <td>7677.3523</td>\n",
       "      <td>7645.1222</td>\n",
       "      <td>8157.7877</td>\n",
       "      <td>7511.4389</td>\n",
       "      <td>9116.7211</td>\n",
       "      <td>6311.3124</td>\n",
       "      <td>9489.8313</td>\n",
       "      <td>...</td>\n",
       "      <td>2479.1482</td>\n",
       "      <td>2655.9199</td>\n",
       "      <td>1595.5814</td>\n",
       "      <td>871.3387</td>\n",
       "      <td>2538.0331</td>\n",
       "      <td>1072.5069</td>\n",
       "      <td>162030</td>\n",
       "      <td>2611973</td>\n",
       "      <td>687498</td>\n",
       "      <td>39231391</td>\n",
       "    </tr>\n",
       "    <tr>\n",
       "      <th>4</th>\n",
       "      <td>20141.3526</td>\n",
       "      <td>7741.1595</td>\n",
       "      <td>22060.7555</td>\n",
       "      <td>8331.2173</td>\n",
       "      <td>28043.7082</td>\n",
       "      <td>8607.6880</td>\n",
       "      <td>31639.5584</td>\n",
       "      <td>9830.7972</td>\n",
       "      <td>13223.8723</td>\n",
       "      <td>9832.0299</td>\n",
       "      <td>...</td>\n",
       "      <td>7659.1228</td>\n",
       "      <td>2311.5113</td>\n",
       "      <td>2373.9445</td>\n",
       "      <td>1252.3303</td>\n",
       "      <td>3408.0341</td>\n",
       "      <td>1516.3274</td>\n",
       "      <td>421916</td>\n",
       "      <td>2994364</td>\n",
       "      <td>2572840</td>\n",
       "      <td>69274797</td>\n",
       "    </tr>\n",
       "  </tbody>\n",
       "</table>\n",
       "<p>5 rows × 42 columns</p>\n",
       "</div>"
      ],
      "text/plain": [
       "   0여성notvisit    0여성visit  0남성notvisit    0남성visit  10여성notvisit   10여성visit  \\\n",
       "0   11030.2331   9791.3235   11498.2617  10650.5811    13324.2924  10954.4914   \n",
       "1   17647.5285  10160.5833   15216.9486  10298.1857    14152.0528  11361.8229   \n",
       "2   12538.2881   7792.5662   14360.4369   6043.2109    16053.7231   8710.5446   \n",
       "3   10539.1926   7307.2766   10214.4234   7677.3523     7645.1222   8157.7877   \n",
       "4   20141.3526   7741.1595   22060.7555   8331.2173    28043.7082   8607.6880   \n",
       "\n",
       "   10남성notvisit   10남성visit  20여성notvisit   20여성visit  ...  80여성notvisit  \\\n",
       "0    15372.8110  12625.9706     8269.5504  15354.9535  ...     9313.4883   \n",
       "1    12541.6031  12196.2891    11551.7730  15218.0249  ...     4756.9182   \n",
       "2    19530.3550   7145.9647    10281.0872   8805.2719  ...    13545.1496   \n",
       "3     7511.4389   9116.7211     6311.3124   9489.8313  ...     2479.1482   \n",
       "4    31639.5584   9830.7972    13223.8723   9832.0299  ...     7659.1228   \n",
       "\n",
       "   80여성visit  80남성notvisit  80남성visit    장기체류외국인    단기체류외국인  use_amt배달  \\\n",
       "0  3581.6028     5048.0583  1258.6118  3217.1185  3552.3268     644192   \n",
       "1  3304.4581     2626.1564  1394.6639  2926.3732  1347.0481     396728   \n",
       "2  2777.5342     7111.8299   937.3813  5844.0823  1988.0280     512113   \n",
       "3  2655.9199     1595.5814   871.3387  2538.0331  1072.5069     162030   \n",
       "4  2311.5113     2373.9445  1252.3303  3408.0341  1516.3274     421916   \n",
       "\n",
       "   use_amt식품  use_amt농축수산물  use_amt마트/슈퍼마켓  \n",
       "0   16392477       2199680        24828201  \n",
       "1    3178292        354993        37971731  \n",
       "2    1413442       2730942        37142481  \n",
       "3    2611973        687498        39231391  \n",
       "4    2994364       2572840        69274797  \n",
       "\n",
       "[5 rows x 42 columns]"
      ]
     },
     "execution_count": 12,
     "metadata": {},
     "output_type": "execute_result"
    }
   ],
   "source": [
    "# 유동인구, 카드소비 데이터\n",
    "df1 = df.iloc[:, 3:46]\n",
    "df1 = df1.drop(columns = 'dayoff', axis=1)\n",
    "df1.head()"
   ]
  },
  {
   "cell_type": "code",
   "execution_count": 15,
   "id": "f225e631-26c0-4a5d-9c72-84169836f30d",
   "metadata": {},
   "outputs": [
    {
     "data": {
      "text/plain": [
       "((48421, 42), (48421,))"
      ]
     },
     "execution_count": 15,
     "metadata": {},
     "output_type": "execute_result"
    }
   ],
   "source": [
    "df1.shape, df['배출량'].shape"
   ]
  },
  {
   "cell_type": "code",
   "execution_count": 16,
   "id": "46c1ffad-2233-4ee7-904a-156ef9cf94e4",
   "metadata": {},
   "outputs": [
    {
     "name": "stdout",
     "output_type": "stream",
     "text": [
      "Train Data :  (38736, 42) (38736,)\n",
      "Test Data :  (9685, 42) (9685,)\n"
     ]
    }
   ],
   "source": [
    "from sklearn.model_selection import train_test_split\n",
    "\n",
    "X = df1\n",
    "y = df['배출량']\n",
    "\n",
    "X_train, X_test, y_train, y_test = train_test_split(X, y, \n",
    "                                                    test_size=0.2, \n",
    "                                                    random_state=42)\n",
    "\n",
    "print('Train Data : ', X_train.shape, y_train.shape)\n",
    "print('Test Data : ', X_test.shape, y_test.shape)"
   ]
  },
  {
   "cell_type": "markdown",
   "id": "51c80573-9643-440d-8fdd-0ad606e9b9a0",
   "metadata": {},
   "source": [
    "# 모델 생성 및 평가"
   ]
  },
  {
   "cell_type": "markdown",
   "id": "d9b7117d-215b-4f85-9e9e-86b7eaf0a2e3",
   "metadata": {},
   "source": [
    "## 1. Linear Model"
   ]
  },
  {
   "cell_type": "code",
   "execution_count": 21,
   "id": "5394c662-d265-42bb-a53a-5e8f2846f2b4",
   "metadata": {},
   "outputs": [],
   "source": [
    "from sklearn.linear_model import LinearRegression, Ridge, Lasso, ElasticNet\n",
    "from sklearn.metrics import mean_squared_error"
   ]
  },
  {
   "cell_type": "markdown",
   "id": "25118177-8265-4b9d-a245-bc908ec9dc6c",
   "metadata": {},
   "source": [
    "### 1-1. Multiple Regression"
   ]
  },
  {
   "cell_type": "code",
   "execution_count": 18,
   "id": "92a80071-6f86-4abd-995c-5c27ea867b23",
   "metadata": {},
   "outputs": [
    {
     "name": "stdout",
     "output_type": "stream",
     "text": [
      "Wall time: 73.8 ms\n"
     ]
    },
    {
     "data": {
      "text/plain": [
       "LinearRegression(n_jobs=-1, normalize=True)"
      ]
     },
     "execution_count": 18,
     "metadata": {},
     "output_type": "execute_result"
    }
   ],
   "source": [
    "%%time\n",
    "\n",
    "# Modeling\n",
    "MR = LinearRegression(normalize = True, n_jobs = -1)\n",
    "\n",
    "MR.fit(X_train, y_train)"
   ]
  },
  {
   "cell_type": "code",
   "execution_count": 25,
   "id": "de331cb4-1d0a-4d52-b6c8-2f26ecadc1db",
   "metadata": {},
   "outputs": [
    {
     "data": {
      "text/plain": [
       "608555.3935105848"
      ]
     },
     "execution_count": 25,
     "metadata": {},
     "output_type": "execute_result"
    }
   ],
   "source": [
    "# Evaluation\n",
    "mse = mean_squared_error(y_test, MR.predict(X_test))\n",
    "np.sqrt(mse)"
   ]
  },
  {
   "cell_type": "markdown",
   "id": "7d1332d8-1736-4d5f-90db-2d29a951c3f9",
   "metadata": {},
   "source": [
    "### 1-2. Ridge Regression"
   ]
  },
  {
   "cell_type": "code",
   "execution_count": 22,
   "id": "3f4e3647-d0cd-483e-a9ab-30158b59d8b6",
   "metadata": {},
   "outputs": [
    {
     "name": "stdout",
     "output_type": "stream",
     "text": [
      "Wall time: 51.9 ms\n"
     ]
    },
    {
     "data": {
      "text/plain": [
       "Ridge(alpha=0.3, normalize=True, solver='cholesky')"
      ]
     },
     "execution_count": 22,
     "metadata": {},
     "output_type": "execute_result"
    }
   ],
   "source": [
    "%%time\n",
    "\n",
    "RG = Ridge(normalize=True, alpha=0.3, solver='cholesky')\n",
    "\n",
    "RG.fit(X_train, y_train)"
   ]
  },
  {
   "cell_type": "code",
   "execution_count": 26,
   "id": "f3ee7456-1442-47d3-a25f-c454ce49fead",
   "metadata": {},
   "outputs": [
    {
     "data": {
      "text/plain": [
       "766039.505274679"
      ]
     },
     "execution_count": 26,
     "metadata": {},
     "output_type": "execute_result"
    }
   ],
   "source": [
    "# Evaluation\n",
    "mse = mean_squared_error(y_test, RG.predict(X_test))\n",
    "np.sqrt(mse)"
   ]
  },
  {
   "cell_type": "markdown",
   "id": "67b687c5-cbe5-4ba1-9d95-b242548afcc6",
   "metadata": {},
   "source": [
    "### 1-3. Lasso Regression"
   ]
  },
  {
   "cell_type": "code",
   "execution_count": 27,
   "id": "4d03dab0-ca7c-4b34-b356-3b92f42afb91",
   "metadata": {},
   "outputs": [
    {
     "name": "stdout",
     "output_type": "stream",
     "text": [
      "Wall time: 1.97 s\n"
     ]
    },
    {
     "data": {
      "text/plain": [
       "Lasso(alpha=0.2, normalize=True)"
      ]
     },
     "execution_count": 27,
     "metadata": {},
     "output_type": "execute_result"
    }
   ],
   "source": [
    "%%time\n",
    "\n",
    "LS = Lasso(normalize=True, alpha=0.2)\n",
    "\n",
    "LS.fit(X_train, y_train)"
   ]
  },
  {
   "cell_type": "code",
   "execution_count": 28,
   "id": "c23661b0-a252-4a3d-88a7-070ca6e9e961",
   "metadata": {},
   "outputs": [
    {
     "data": {
      "text/plain": [
       "608675.5977782004"
      ]
     },
     "execution_count": 28,
     "metadata": {},
     "output_type": "execute_result"
    }
   ],
   "source": [
    "# Evaluation\n",
    "mse = mean_squared_error(y_test, LS.predict(X_test))\n",
    "np.sqrt(mse)"
   ]
  },
  {
   "cell_type": "markdown",
   "id": "9455d64c-2c12-4b62-992e-ccac72cd3086",
   "metadata": {},
   "source": [
    "### 1-4. ElasticNet Regression"
   ]
  },
  {
   "cell_type": "code",
   "execution_count": 29,
   "id": "3ca084e1-acfc-4d18-9015-d9acc68d83ed",
   "metadata": {},
   "outputs": [
    {
     "name": "stdout",
     "output_type": "stream",
     "text": [
      "Wall time: 119 ms\n"
     ]
    },
    {
     "data": {
      "text/plain": [
       "ElasticNet(alpha=0.001, l1_ratio=0.7, normalize=True)"
      ]
     },
     "execution_count": 29,
     "metadata": {},
     "output_type": "execute_result"
    }
   ],
   "source": [
    "%%time\n",
    "\n",
    "EN = ElasticNet(normalize=True, \n",
    "                alpha=0.001, \n",
    "                l1_ratio=0.7)\n",
    "\n",
    "EN.fit(X_train, y_train)"
   ]
  },
  {
   "cell_type": "code",
   "execution_count": 30,
   "id": "1f8fd294-0635-40a7-a6dd-3d9406ffa890",
   "metadata": {},
   "outputs": [
    {
     "data": {
      "text/plain": [
       "1167296.2353448023"
      ]
     },
     "execution_count": 30,
     "metadata": {},
     "output_type": "execute_result"
    }
   ],
   "source": [
    "# Evaluation\n",
    "mse = mean_squared_error(y_test, EN.predict(X_test))\n",
    "np.sqrt(mse)"
   ]
  },
  {
   "cell_type": "markdown",
   "id": "0e9d946b-f8b0-4986-af22-5c68ee6e88de",
   "metadata": {},
   "source": [
    "## 2. Tree Regressor"
   ]
  },
  {
   "cell_type": "code",
   "execution_count": 32,
   "id": "9b5b0b6d-916c-43e4-9868-6239e95eaca9",
   "metadata": {},
   "outputs": [],
   "source": [
    "from sklearn.tree import DecisionTreeRegressor\n",
    "\n",
    "from sklearn.ensemble import RandomForestRegressor\n",
    "from sklearn.ensemble import GradientBoostingRegressor\n",
    "from sklearn.ensemble import AdaBoostRegressor\n",
    "\n",
    "from xgboost import XGBRegressor\n",
    "from lightgbm import LGBMRegressor"
   ]
  },
  {
   "cell_type": "markdown",
   "id": "c69d8c07-a4ae-438b-b5b8-42458236dbef",
   "metadata": {},
   "source": [
    "### 2-1. Decision Tree Regressor"
   ]
  },
  {
   "cell_type": "code",
   "execution_count": 35,
   "id": "16367e43-fdae-4291-a99b-750c7bac56bf",
   "metadata": {},
   "outputs": [
    {
     "name": "stdout",
     "output_type": "stream",
     "text": [
      "Wall time: 961 ms\n"
     ]
    },
    {
     "data": {
      "text/plain": [
       "DecisionTreeRegressor(max_depth=5, random_state=42)"
      ]
     },
     "execution_count": 35,
     "metadata": {},
     "output_type": "execute_result"
    }
   ],
   "source": [
    "%%time\n",
    "\n",
    "DTR = DecisionTreeRegressor(max_depth=5, \n",
    "                            criterion='mse', \n",
    "                            random_state=42)\n",
    "\n",
    "DTR.fit(X_train, y_train)"
   ]
  },
  {
   "cell_type": "code",
   "execution_count": 34,
   "id": "d0a76e80-c558-4e8c-a643-ab5ad2561ec6",
   "metadata": {},
   "outputs": [
    {
     "data": {
      "text/plain": [
       "591862.588569143"
      ]
     },
     "execution_count": 34,
     "metadata": {},
     "output_type": "execute_result"
    }
   ],
   "source": [
    "# Evaluation\n",
    "mse = mean_squared_error(y_test, DTR.predict(X_test))\n",
    "np.sqrt(mse)"
   ]
  },
  {
   "cell_type": "code",
   "execution_count": 44,
   "id": "bd788b62-c9ed-4bc9-8611-f97e067b57f9",
   "metadata": {},
   "outputs": [
    {
     "data": {
      "text/plain": [
       "array([0.00000000e+00, 2.29300113e-03, 8.02715968e-03, 0.00000000e+00,\n",
       "       6.94690326e-01, 1.73449411e-03, 3.06602998e-02, 7.41761715e-04,\n",
       "       0.00000000e+00, 0.00000000e+00, 0.00000000e+00, 1.80572402e-04,\n",
       "       6.16237939e-03, 0.00000000e+00, 0.00000000e+00, 0.00000000e+00,\n",
       "       0.00000000e+00, 0.00000000e+00, 0.00000000e+00, 0.00000000e+00,\n",
       "       1.11165322e-01, 0.00000000e+00, 2.35449517e-03, 4.49216563e-04,\n",
       "       1.62299307e-03, 0.00000000e+00, 7.61988098e-03, 1.33864254e-03,\n",
       "       0.00000000e+00, 0.00000000e+00, 0.00000000e+00, 0.00000000e+00,\n",
       "       1.76203372e-03, 1.09228252e-03, 1.10847059e-03, 0.00000000e+00,\n",
       "       0.00000000e+00, 3.18843236e-02, 9.81256540e-04, 2.09957071e-04,\n",
       "       0.00000000e+00, 9.39211315e-02])"
      ]
     },
     "execution_count": 44,
     "metadata": {},
     "output_type": "execute_result"
    }
   ],
   "source": [
    "# Feature Importance\n",
    "DTR.feature_importances_"
   ]
  },
  {
   "cell_type": "code",
   "execution_count": 40,
   "id": "7293e846-73f6-4568-af2d-913148fdd6d9",
   "metadata": {},
   "outputs": [
    {
     "data": {
      "image/png": "[encoded data removed]",
      "text/plain": [
       "<Figure size 576x720 with 1 Axes>"
      ]
     },
     "metadata": {
      "needs_background": "light"
     },
     "output_type": "display_data"
    }
   ],
   "source": [
    "plt.figure(figsize=(8, 10))\n",
    "sns.barplot(DTR.feature_importances_, df1.columns)\n",
    "plt.show()"
   ]
  },
  {
   "cell_type": "markdown",
   "id": "db345c9e-3b57-429d-8f13-f234fc48e87d",
   "metadata": {},
   "source": [
    "### 2-2. Random Forest Regressor"
   ]
  },
  {
   "cell_type": "code",
   "execution_count": 42,
   "id": "ef2b4774-870b-4548-9d1d-beacda4869ce",
   "metadata": {},
   "outputs": [
    {
     "name": "stdout",
     "output_type": "stream",
     "text": [
      "Wall time: 7.54 s\n"
     ]
    },
    {
     "data": {
      "text/plain": [
       "RandomForestRegressor(max_depth=1, max_features=3, n_estimators=1000, n_jobs=-1,\n",
       "                      random_state=42)"
      ]
     },
     "execution_count": 42,
     "metadata": {},
     "output_type": "execute_result"
    }
   ],
   "source": [
    "%%time\n",
    "\n",
    "RF = RandomForestRegressor(n_estimators=1000, \n",
    "                           max_features=3, \n",
    "                           max_depth=1, \n",
    "                           criterion='mse', \n",
    "                           n_jobs=-1, \n",
    "                           random_state=42)\n",
    "\n",
    "RF.fit(X_train, y_train)"
   ]
  },
  {
   "cell_type": "code",
   "execution_count": 43,
   "id": "0454317b-c6f2-4bd1-bdd6-a293823e5078",
   "metadata": {},
   "outputs": [
    {
     "data": {
      "text/plain": [
       "1137152.90927909"
      ]
     },
     "execution_count": 43,
     "metadata": {},
     "output_type": "execute_result"
    }
   ],
   "source": [
    "# Evaluation\n",
    "mse = mean_squared_error(y_test, RF.predict(X_test))\n",
    "np.sqrt(mse)"
   ]
  },
  {
   "cell_type": "code",
   "execution_count": 45,
   "id": "b91160a8-3fbd-468f-9bb1-be232b0bb62b",
   "metadata": {},
   "outputs": [
    {
     "data": {
      "text/plain": [
       "array([0.034, 0.028, 0.029, 0.025, 0.076, 0.011, 0.057, 0.022, 0.067,\n",
       "       0.01 , 0.041, 0.016, 0.047, 0.002, 0.056, 0.002, 0.062, 0.009,\n",
       "       0.054, 0.018, 0.053, 0.006, 0.06 , 0.016, 0.047, 0.002, 0.021,\n",
       "       0.012, 0.034, 0.004, 0.004, 0.004, 0.005, 0.   , 0.001, 0.002,\n",
       "       0.   , 0.   , 0.001, 0.018, 0.001, 0.043])"
      ]
     },
     "execution_count": 45,
     "metadata": {},
     "output_type": "execute_result"
    }
   ],
   "source": [
    "# Feature Importance\n",
    "RF.feature_importances_"
   ]
  },
  {
   "cell_type": "code",
   "execution_count": 47,
   "id": "cf64a7e2-462e-4746-b286-e8728178e396",
   "metadata": {},
   "outputs": [
    {
     "data": {
      "image/png": "[encoded data removed]",
      "text/plain": [
       "<Figure size 576x720 with 1 Axes>"
      ]
     },
     "metadata": {
      "needs_background": "light"
     },
     "output_type": "display_data"
    }
   ],
   "source": [
    "plt.figure(figsize=(8, 10))\n",
    "sns.barplot(RF.feature_importances_, df1.columns)\n",
    "plt.show()"
   ]
  },
  {
   "cell_type": "markdown",
   "id": "4e252c7d-8341-457e-9e58-42b60771708a",
   "metadata": {},
   "source": [
    "### 2-3. GBM Regressor"
   ]
  },
  {
   "cell_type": "code",
   "execution_count": 48,
   "id": "221f084b-d630-441f-8555-10f421cb3556",
   "metadata": {},
   "outputs": [
    {
     "name": "stdout",
     "output_type": "stream",
     "text": [
      "Wall time: 32.5 s\n"
     ]
    },
    {
     "data": {
      "text/plain": [
       "GradientBoostingRegressor(criterion='mse', learning_rate=0.0001, max_depth=1,\n",
       "                          max_features=5, n_estimators=1000, random_state=42)"
      ]
     },
     "execution_count": 48,
     "metadata": {},
     "output_type": "execute_result"
    }
   ],
   "source": [
    "%%time\n",
    "\n",
    "GBR = GradientBoostingRegressor(loss = 'ls', \n",
    "                                n_estimators=1000, \n",
    "                                learning_rate=0.0001, \n",
    "                                criterion='mse', \n",
    "                                max_features=5, \n",
    "                                max_depth=1, \n",
    "                                random_state=42)\n",
    "\n",
    "GBR.fit(X_train, y_train)"
   ]
  },
  {
   "cell_type": "code",
   "execution_count": 49,
   "id": "a7f2d6e8-4682-4c4a-ba44-b0d4bc5ddf82",
   "metadata": {},
   "outputs": [
    {
     "data": {
      "text/plain": [
       "1846545.1690169806"
      ]
     },
     "execution_count": 49,
     "metadata": {},
     "output_type": "execute_result"
    }
   ],
   "source": [
    "# Evaluation\n",
    "mse = mean_squared_error(y_test, GBR.predict(X_test))\n",
    "np.sqrt(mse)"
   ]
  },
  {
   "cell_type": "code",
   "execution_count": 50,
   "id": "3c128453-4fe0-4f89-bda6-c2b73cbbbf49",
   "metadata": {},
   "outputs": [
    {
     "data": {
      "text/plain": [
       "array([0.023013  , 0.00227477, 0.01900885, 0.01142417, 0.1275024 ,\n",
       "       0.00497202, 0.08883982, 0.00827056, 0.12033117, 0.00064983,\n",
       "       0.05901578, 0.00603883, 0.03919302, 0.        , 0.03949654,\n",
       "       0.00133411, 0.07882945, 0.00272326, 0.06412587, 0.00278148,\n",
       "       0.10824802, 0.00275603, 0.05989378, 0.00358877, 0.03448327,\n",
       "       0.        , 0.01510934, 0.        , 0.023043  , 0.        ,\n",
       "       0.        , 0.00058723, 0.00261279, 0.        , 0.        ,\n",
       "       0.        , 0.        , 0.        , 0.        , 0.00490935,\n",
       "       0.        , 0.04494354])"
      ]
     },
     "execution_count": 50,
     "metadata": {},
     "output_type": "execute_result"
    }
   ],
   "source": [
    "# Feature Importance\n",
    "GBR.feature_importances_"
   ]
  },
  {
   "cell_type": "code",
   "execution_count": 51,
   "id": "3727dac1-5ae3-407b-a488-996a179f0a35",
   "metadata": {},
   "outputs": [
    {
     "data": {
      "image/png": "[encoded data removed]",
      "text/plain": [
       "<Figure size 576x720 with 1 Axes>"
      ]
     },
     "metadata": {
      "needs_background": "light"
     },
     "output_type": "display_data"
    }
   ],
   "source": [
    "plt.figure(figsize=(8, 10))\n",
    "sns.barplot(GBR.feature_importances_, df1.columns)\n",
    "plt.show()"
   ]
  },
  {
   "cell_type": "markdown",
   "id": "17b539a2-b567-46d2-83e0-e949d9e93959",
   "metadata": {},
   "source": [
    "### 2-4. AdaBoost Regressor"
   ]
  },
  {
   "cell_type": "code",
   "execution_count": 52,
   "id": "ab6fedea-b3c8-4d26-8bea-6ef6a13bada1",
   "metadata": {},
   "outputs": [
    {
     "name": "stdout",
     "output_type": "stream",
     "text": [
      "Wall time: 6min 33s\n"
     ]
    },
    {
     "data": {
      "text/plain": [
       "AdaBoostRegressor(learning_rate=0.0001, loss='square', n_estimators=500,\n",
       "                  random_state=42)"
      ]
     },
     "execution_count": 52,
     "metadata": {},
     "output_type": "execute_result"
    }
   ],
   "source": [
    "%%time\n",
    "\n",
    "ABR = AdaBoostRegressor(loss='square', \n",
    "                        n_estimators=500, \n",
    "                        learning_rate=0.0001, \n",
    "                        random_state=42)\n",
    "\n",
    "ABR.fit(X_train, y_train)"
   ]
  },
  {
   "cell_type": "code",
   "execution_count": 54,
   "id": "3d9f1424-503f-4fab-b281-7363261599dd",
   "metadata": {},
   "outputs": [
    {
     "data": {
      "text/plain": [
       "770069.9901028468"
      ]
     },
     "execution_count": 54,
     "metadata": {},
     "output_type": "execute_result"
    }
   ],
   "source": [
    "# Evaluation\n",
    "mse = mean_squared_error(y_test, ABR.predict(X_test))\n",
    "np.sqrt(mse)"
   ]
  },
  {
   "cell_type": "code",
   "execution_count": 55,
   "id": "78d2f005-bb2e-4ed7-bf32-c655ab9fd62b",
   "metadata": {},
   "outputs": [
    {
     "data": {
      "text/plain": [
       "array([0.        , 0.        , 0.00933221, 0.        , 0.74423005,\n",
       "       0.        , 0.03238404, 0.        , 0.00294071, 0.        ,\n",
       "       0.        , 0.        , 0.        , 0.        , 0.        ,\n",
       "       0.        , 0.        , 0.        , 0.        , 0.        ,\n",
       "       0.11186715, 0.        , 0.        , 0.        , 0.        ,\n",
       "       0.        , 0.        , 0.        , 0.        , 0.        ,\n",
       "       0.        , 0.        , 0.        , 0.        , 0.        ,\n",
       "       0.        , 0.        , 0.        , 0.        , 0.        ,\n",
       "       0.        , 0.09924583])"
      ]
     },
     "execution_count": 55,
     "metadata": {},
     "output_type": "execute_result"
    }
   ],
   "source": [
    "# Feature Importance\n",
    "ABR.feature_importances_"
   ]
  },
  {
   "cell_type": "code",
   "execution_count": 56,
   "id": "a5f7aea2-f5b1-44aa-a738-abae8b60a879",
   "metadata": {},
   "outputs": [
    {
     "data": {
      "image/png": "[encoded data removed]",
      "text/plain": [
       "<Figure size 576x720 with 1 Axes>"
      ]
     },
     "metadata": {
      "needs_background": "light"
     },
     "output_type": "display_data"
    }
   ],
   "source": [
    "plt.figure(figsize=(8, 10))\n",
    "sns.barplot(ABR.feature_importances_, df1.columns)\n",
    "plt.show()"
   ]
  },
  {
   "cell_type": "markdown",
   "id": "2254033b-7a08-4207-9dbd-3cf764a25e7d",
   "metadata": {},
   "source": [
    "### 2-5. XGBoost Regressor"
   ]
  },
  {
   "cell_type": "code",
   "execution_count": 53,
   "id": "d01a349f-b35a-4d54-8458-44b1c417b110",
   "metadata": {},
   "outputs": [
    {
     "name": "stdout",
     "output_type": "stream",
     "text": [
      "[10:37:16] WARNING: src/objective/regression_obj.cu:152: reg:linear is now deprecated in favor of reg:squarederror.\n",
      "Wall time: 955 ms\n"
     ]
    },
    {
     "data": {
      "text/plain": [
       "XGBRegressor(booster='gblinear', learning_rate=0.4, n_esimators=1000, n_jobs=-1,\n",
       "             random_state=42, reg_lambda=2.0)"
      ]
     },
     "execution_count": 53,
     "metadata": {},
     "output_type": "execute_result"
    }
   ],
   "source": [
    "%%time\n",
    "\n",
    "XGB = XGBRegressor(booster = 'gblinear', \n",
    "                   n_esimators=1000, \n",
    "                   learning_rate=0.4, \n",
    "                   reg_lambda=2.0, \n",
    "                   n_jobs=-1, \n",
    "                   random_state=42)\n",
    "\n",
    "XGB.fit(X_train, y_train)"
   ]
  },
  {
   "cell_type": "code",
   "execution_count": 57,
   "id": "6b2d4833-3358-4b67-8cd5-5b2dd7aa461a",
   "metadata": {},
   "outputs": [
    {
     "data": {
      "text/plain": [
       "667198.9846471931"
      ]
     },
     "execution_count": 57,
     "metadata": {},
     "output_type": "execute_result"
    }
   ],
   "source": [
    "# Evaluation\n",
    "mse = mean_squared_error(y_test, XGB.predict(X_test))\n",
    "np.sqrt(mse)"
   ]
  },
  {
   "cell_type": "code",
   "execution_count": 68,
   "id": "7fc79dcd-0d2c-4c40-95a5-c2d0338e27cf",
   "metadata": {},
   "outputs": [],
   "source": [
    "# Feature Importance"
   ]
  },
  {
   "cell_type": "code",
   "execution_count": null,
   "id": "b9393076-949b-49a8-a5f9-508f27bc1806",
   "metadata": {},
   "outputs": [],
   "source": [
    "# plt.figure(figsize=(8, 10))\n",
    "# sns.barplot('XGB.feature_importances_?', df1.columns)\n",
    "# plt.show()"
   ]
  },
  {
   "cell_type": "markdown",
   "id": "d6a1c3ae-850a-4eb1-932a-070b5d73735b",
   "metadata": {},
   "source": [
    "### 2-6. LightGBM Regressor"
   ]
  },
  {
   "cell_type": "code",
   "execution_count": 69,
   "id": "87dd8c52-b544-440c-8662-30de7659a3f8",
   "metadata": {},
   "outputs": [
    {
     "name": "stdout",
     "output_type": "stream",
     "text": [
      "Wall time: 14.8 s\n"
     ]
    },
    {
     "data": {
      "text/plain": [
       "LGBMRegressor(importance_type='gain', learning_rate=0.001, linear_tree=True,\n",
       "              max_depth=10, n_estimators=1000, objective='regression')"
      ]
     },
     "execution_count": 69,
     "metadata": {},
     "output_type": "execute_result"
    }
   ],
   "source": [
    "%%time\n",
    "\n",
    "LGB = LGBMRegressor(linear_tree=True, \n",
    "                   boosting_type='gbdt', \n",
    "                   objective='regression', \n",
    "                   importance_type='gain',\n",
    " \n",
    "                   n_estimators=1000, \n",
    "                   learning_rate=0.001, \n",
    "                   max_depth=10, \n",
    "                   n_jobs=-1)\n",
    "\n",
    "LGB.fit(X_train, y_train)"
   ]
  },
  {
   "cell_type": "code",
   "execution_count": 70,
   "id": "4c044d86-21ec-43a3-8ae2-0a9a05add7cb",
   "metadata": {},
   "outputs": [
    {
     "data": {
      "text/plain": [
       "861589.3725825548"
      ]
     },
     "execution_count": 70,
     "metadata": {},
     "output_type": "execute_result"
    }
   ],
   "source": [
    "# Evaluation\n",
    "mse = mean_squared_error(y_test, LGB.predict(X_test))\n",
    "np.sqrt(mse)"
   ]
  },
  {
   "cell_type": "code",
   "execution_count": 71,
   "id": "20613071-6d05-46ec-8cf3-00d2a5fc4aac",
   "metadata": {},
   "outputs": [
    {
     "data": {
      "text/plain": [
       "array([1.33555191e+16, 1.22799012e+17, 1.06012377e+18, 3.21587269e+15,\n",
       "       4.25179866e+19, 1.27812934e+17, 1.34869199e+18, 3.83679503e+14,\n",
       "       1.05326390e+16, 2.59957077e+16, 1.35661650e+16, 2.92060267e+16,\n",
       "       1.75852968e+17, 2.39866832e+16, 5.05881360e+16, 1.17607212e+17,\n",
       "       4.06357059e+16, 0.00000000e+00, 1.79910779e+17, 0.00000000e+00,\n",
       "       6.49700891e+18, 2.31866581e+15, 4.37210796e+16, 6.64121736e+15,\n",
       "       8.39970433e+16, 1.28602160e+16, 3.18952770e+17, 1.36251059e+17,\n",
       "       1.85629860e+17, 2.41124735e+16, 1.83806287e+17, 7.19350748e+15,\n",
       "       1.12994734e+17, 1.30815255e+17, 1.17953401e+17, 2.48759683e+16,\n",
       "       8.47223723e+16, 2.01840134e+18, 4.46203091e+16, 2.17222657e+16,\n",
       "       0.00000000e+00, 6.44331065e+18])"
      ]
     },
     "execution_count": 71,
     "metadata": {},
     "output_type": "execute_result"
    }
   ],
   "source": [
    "# Feature Importance\n",
    "LGB.feature_importances_"
   ]
  },
  {
   "cell_type": "code",
   "execution_count": 72,
   "id": "cb8ecb4d-83b9-4e96-9d17-308ed851d491",
   "metadata": {},
   "outputs": [
    {
     "data": {
      "image/png": "[encoded data removed]",
      "text/plain": [
       "<Figure size 576x720 with 1 Axes>"
      ]
     },
     "metadata": {
      "needs_background": "light"
     },
     "output_type": "display_data"
    }
   ],
   "source": [
    "plt.figure(figsize=(8, 10))\n",
    "sns.barplot(LGB.feature_importances_, df1.columns)\n",
    "plt.show()"
   ]
  },
  {
   "cell_type": "code",
   "execution_count": null,
   "id": "e9c31cc5-aae4-4be0-a009-29175e6b1dc9",
   "metadata": {},
   "outputs": [],
   "source": []
  }
 ],
 "metadata": {
  "kernelspec": {
   "display_name": "Python Multi",
   "language": "python",
   "name": "multi"
  },
  "language_info": {
   "codemirror_mode": {
    "name": "ipython",
    "version": 3
   },
   "file_extension": ".py",
   "mimetype": "text/x-python",
   "name": "python",
   "nbconvert_exporter": "python",
   "pygments_lexer": "ipython3",
   "version": "3.7.6"
  }
 },
 "nbformat": 4,
 "nbformat_minor": 5
}
